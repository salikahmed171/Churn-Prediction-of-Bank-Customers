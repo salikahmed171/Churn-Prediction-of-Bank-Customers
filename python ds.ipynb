{
 "cells": [
  {
   "cell_type": "code",
   "execution_count": 21,
   "metadata": {},
   "outputs": [],
   "source": [
    "def contracting(l):\n",
    "    leng=len(l)\n",
    "    chk=999999\n",
    "    flag=0\n",
    "    for i in range (0,leng):\n",
    "        if i+1==leng:\n",
    "            break\n",
    "        if abs(l[i]-l[i+1])<chk:\n",
    "            chk=abs(l[i]-l[i+1])\n",
    "        else:\n",
    "            flag=1\n",
    "            break\n",
    "    \n",
    "    if flag==1:\n",
    "        return False\n",
    "    else:\n",
    "        return True\n",
    "    \n",
    "\n",
    "        "
   ]
  },
  {
   "cell_type": "code",
   "execution_count": 22,
   "metadata": {},
   "outputs": [
    {
     "data": {
      "text/plain": [
       "False"
      ]
     },
     "execution_count": 22,
     "metadata": {},
     "output_type": "execute_result"
    }
   ],
   "source": [
    "contracting([-2,3,7,2,-1]) \n"
   ]
  },
  {
   "cell_type": "code",
   "execution_count": 23,
   "metadata": {},
   "outputs": [
    {
     "data": {
      "text/plain": [
       "True"
      ]
     },
     "execution_count": 23,
     "metadata": {},
     "output_type": "execute_result"
    }
   ],
   "source": [
    "contracting([9,2,7,3,1])"
   ]
  },
  {
   "cell_type": "code",
   "execution_count": 25,
   "metadata": {},
   "outputs": [],
   "source": [
    "def counthv(l):\n",
    "    h_count=0\n",
    "    v_count=0\n",
    "    ln=len(l)\n",
    "    for i in range (1,ln):\n",
    "        if i+1==ln:\n",
    "            break\n",
    "            \n",
    "        if l[i]>l[i-1] and l[i]>l[i+1]:\n",
    "            h_count+=1\n",
    "        if l[i]<l[i-1] and l[i]<l[i+1]:\n",
    "            v_count+=1\n",
    "     \n",
    "    l1=[h_count,v_count]\n",
    "    \n",
    "    return l1\n",
    "            "
   ]
  },
  {
   "cell_type": "code",
   "execution_count": 26,
   "metadata": {},
   "outputs": [
    {
     "data": {
      "text/plain": [
       "[2, 1]"
      ]
     },
     "execution_count": 26,
     "metadata": {},
     "output_type": "execute_result"
    }
   ],
   "source": [
    "counthv([1,2,1,2,3,2,1])"
   ]
  },
  {
   "cell_type": "code",
   "execution_count": 27,
   "metadata": {},
   "outputs": [
    {
     "data": {
      "text/plain": [
       "[0, 1]"
      ]
     },
     "execution_count": 27,
     "metadata": {},
     "output_type": "execute_result"
    }
   ],
   "source": [
    "counthv([3,1,2,3])"
   ]
  },
  {
   "cell_type": "code",
   "execution_count": 45,
   "metadata": {},
   "outputs": [],
   "source": [
    "def leftrotate(l):\n",
    "    n=len(l)\n",
    "    l1=[]\n",
    "    for i in range(0,n):\n",
    "        lt=[]\n",
    "        for j in range (0,n):\n",
    "            lt.append(l[j][(n-1)-i])\n",
    "        l1.append(lt)\n",
    "        \n",
    "    return l1    "
   ]
  },
  {
   "cell_type": "code",
   "execution_count": 46,
   "metadata": {},
   "outputs": [
    {
     "data": {
      "text/plain": [
       "[[2, 4], [1, 3]]"
      ]
     },
     "execution_count": 46,
     "metadata": {},
     "output_type": "execute_result"
    }
   ],
   "source": [
    "leftrotate([[1,2],[3,4]])"
   ]
  },
  {
   "cell_type": "code",
   "execution_count": 49,
   "metadata": {},
   "outputs": [],
   "source": [
    "def leftrotate(l):\n",
    "    n=len(l)\n",
    "    l1=[]\n",
    "    for i in range (0,n):\n",
    "        lt=[]\n",
    "        for j in range (0,n):\n",
    "            lt.append(0)\n",
    "        l1.append(lt)   \n",
    "        \n",
    "    for i in range(0,n):\n",
    "        for j in range (0,n):\n",
    "            l1[i][j]=l[j][(n-1)-i]\n",
    "        \n",
    "    return l1    "
   ]
  },
  {
   "cell_type": "code",
   "execution_count": 50,
   "metadata": {},
   "outputs": [
    {
     "data": {
      "text/plain": [
       "[[2, 4], [1, 3]]"
      ]
     },
     "execution_count": 50,
     "metadata": {},
     "output_type": "execute_result"
    }
   ],
   "source": [
    "leftrotate([[1,2],[3,4]])"
   ]
  },
  {
   "cell_type": "code",
   "execution_count": null,
   "metadata": {},
   "outputs": [],
   "source": []
  }
 ],
 "metadata": {
  "kernelspec": {
   "display_name": "Python 3",
   "language": "python",
   "name": "python3"
  },
  "language_info": {
   "codemirror_mode": {
    "name": "ipython",
    "version": 3
   },
   "file_extension": ".py",
   "mimetype": "text/x-python",
   "name": "python",
   "nbconvert_exporter": "python",
   "pygments_lexer": "ipython3",
   "version": "3.7.6"
  }
 },
 "nbformat": 4,
 "nbformat_minor": 4
}
